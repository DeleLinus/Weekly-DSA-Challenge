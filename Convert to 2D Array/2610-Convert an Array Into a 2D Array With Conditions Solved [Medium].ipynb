{
 "cells": [
  {
   "cell_type": "markdown",
   "id": "389df9af",
   "metadata": {},
   "source": [
    "[Leetcode link](https://leetcode.com/problems/convert-an-array-into-a-2d-array-with-conditions/description/)\n",
    "\n",
    "You are given an integer array `nums`. You need to create a 2D array from `nums` satisfying the following conditions:\n",
    "\n",
    "- The 2D array should contain **only** the elements of the array `nums`.\n",
    "- Each row in the 2D array contains **distinct** integers.\n",
    "- The number of rows in the 2D array should be **minimal**.\n",
    "Return the _resulting array_. If there are multiple answers, return any of them.\n",
    "\n",
    "**Note** that the 2D array can have a different number of elements on each row.\n",
    "\n",
    "**Example 1:**\n",
    "\n",
    "**Input:** nums = [1,3,4,1,2,3,1]\\\n",
    "**Output:** [[1,3,4,2],[1,3],[1]]\\\n",
    "**Explanation:** We can create a 2D array that contains the following rows:\n",
    "- 1,3,4,2\n",
    "- 1,3\n",
    "- 1\n",
    "\n",
    "All elements of nums were used, and each row of the 2D array contains distinct integers, so it is a valid answer.\\\n",
    "It can be shown that we cannot have less than 3 rows in a valid array.\n",
    "\n",
    "**Example 2:**\n",
    "\n",
    "**Input:** nums = [1,2,3,4]\\\n",
    "**Output:** [[4,3,2,1]]\\\n",
    "**Explanation:** All elements of the array are distinct, so we can keep all of them in the first row of the 2D array.\n",
    " \n",
    "\n",
    "**Constraints:**\n",
    "\n",
    "- `1 <= nums.length <= 200`\n",
    "- `1 <= nums[i] <= nums.length`"
   ]
  },
  {
   "cell_type": "code",
   "execution_count": 1,
   "id": "0206a13a",
   "metadata": {},
   "outputs": [],
   "source": [
    "class Solution(object):\n",
    "    def findMatrix(self, nums):\n",
    "        \"\"\"\n",
    "        :type nums: List[int]\n",
    "        :rtype: List[List[int]]\n",
    "        \"\"\"\n",
    "        result = []\n",
    "        while len(nums)>0:\n",
    "            left_over = []\n",
    "            row = []\n",
    "            for i in nums:\n",
    "                if i not in row:\n",
    "                    row.append(i)\n",
    "                else:\n",
    "                    left_over.append(i)\n",
    "            result.append(row)\n",
    "            nums = left_over\n",
    "        \n",
    "        return result"
   ]
  },
  {
   "cell_type": "code",
   "execution_count": 2,
   "id": "212e28ed",
   "metadata": {},
   "outputs": [
    {
     "name": "stdout",
     "output_type": "stream",
     "text": [
      "[[1, 3, 4, 2], [1, 3], [1]]\n"
     ]
    }
   ],
   "source": [
    "# case 1\n",
    "nums = [1,3,4,1,2,3,1]\n",
    "sol_1 = Solution().findMatrix(nums)\n",
    "print(sol_1)"
   ]
  },
  {
   "cell_type": "code",
   "execution_count": 3,
   "id": "223bc3e2",
   "metadata": {},
   "outputs": [
    {
     "name": "stdout",
     "output_type": "stream",
     "text": [
      "[[2, 1], [1]]\n"
     ]
    }
   ],
   "source": [
    "# case 2\n",
    "nums = [2,1,1]\n",
    "sol_2 = Solution().findMatrix(nums)\n",
    "print(sol_2)"
   ]
  }
 ],
 "metadata": {
  "kernelspec": {
   "display_name": "Python 3",
   "language": "python",
   "name": "python3"
  },
  "language_info": {
   "codemirror_mode": {
    "name": "ipython",
    "version": 3
   },
   "file_extension": ".py",
   "mimetype": "text/x-python",
   "name": "python",
   "nbconvert_exporter": "python",
   "pygments_lexer": "ipython3",
   "version": "3.8.8"
  }
 },
 "nbformat": 4,
 "nbformat_minor": 5
}
